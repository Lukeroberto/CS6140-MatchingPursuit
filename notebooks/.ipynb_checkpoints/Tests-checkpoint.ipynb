{
 "cells": [
  {
   "cell_type": "code",
   "execution_count": 1,
   "metadata": {},
   "outputs": [
    {
     "name": "stdout",
     "output_type": "stream",
     "text": [
      "/home/luke/projects/CS6140-MatchingPursuit\n"
     ]
    }
   ],
   "source": [
    "cd .."
   ]
  },
  {
   "cell_type": "code",
   "execution_count": 2,
   "metadata": {},
   "outputs": [],
   "source": [
    "%load_ext autoreload\n",
    "%autoreload 2"
   ]
  },
  {
   "cell_type": "code",
   "execution_count": 19,
   "metadata": {},
   "outputs": [
    {
     "name": "stderr",
     "output_type": "stream",
     "text": [
      "[autoreload of utils.dictionary_generation failed: Traceback (most recent call last):\n",
      "  File \"/home/luke/anaconda3/lib/python3.7/site-packages/IPython/extensions/autoreload.py\", line 244, in check\n",
      "    superreload(m, reload, self.old_objects)\n",
      "  File \"/home/luke/anaconda3/lib/python3.7/site-packages/IPython/extensions/autoreload.py\", line 376, in superreload\n",
      "    module = reload(module)\n",
      "  File \"/home/luke/anaconda3/lib/python3.7/imp.py\", line 314, in reload\n",
      "    return importlib.reload(module)\n",
      "  File \"/home/luke/anaconda3/lib/python3.7/importlib/__init__.py\", line 169, in reload\n",
      "    _bootstrap._exec(spec, module)\n",
      "  File \"<frozen importlib._bootstrap>\", line 630, in _exec\n",
      "  File \"<frozen importlib._bootstrap_external>\", line 724, in exec_module\n",
      "  File \"<frozen importlib._bootstrap_external>\", line 860, in get_code\n",
      "  File \"<frozen importlib._bootstrap_external>\", line 791, in source_to_code\n",
      "  File \"<frozen importlib._bootstrap>\", line 219, in _call_with_frames_removed\n",
      "  File \"/home/luke/projects/CS6140-MatchingPursuit/utils/dictionary_generation.py\", line 19\n",
      "    plt.title(title)\n",
      "                   ^\n",
      "TabError: inconsistent use of tabs and spaces in indentation\n",
      "]\n"
     ]
    }
   ],
   "source": [
    "from utils.dataset_utils import *\n",
    "from utils.dictionary_generation import *\n",
    "from utils.matching_pursuit import *\n",
    "from utils.metrics import *\n",
    "\n",
    "import matplotlib.pyplot as plt\n",
    "import numpy as np\n",
    "from tqdm import tqdm_notebook as tqdm\n",
    "from IPython.display import HTML\n"
   ]
  },
  {
   "cell_type": "code",
   "execution_count": 20,
   "metadata": {},
   "outputs": [],
   "source": [
    "num_frames = 50\n",
    "\n",
    "images = loadVideo(\"dataset/2011_09_26\", num_frames)"
   ]
  },
  {
   "cell_type": "code",
   "execution_count": 21,
   "metadata": {
    "scrolled": false
   },
   "outputs": [
    {
     "name": "stdout",
     "output_type": "stream",
     "text": [
      "Num images:  50\n",
      "Cropped Image size:  (512, 1392)\n"
     ]
    }
   ],
   "source": [
    "# images = cropImages(images)\n",
    "\n",
    "print(\"Num images: \", len(images))\n",
    "print(\"Cropped Image size: \", np.shape(images[0]))"
   ]
  },
  {
   "cell_type": "code",
   "execution_count": 22,
   "metadata": {
    "scrolled": false
   },
   "outputs": [
    {
     "name": "stdout",
     "output_type": "stream",
     "text": [
      "Num samples 500\n"
     ]
    },
    {
     "data": {
      "image/png": "[encoded data removed]",
      "text/plain": [
       "<Figure size 720x72 with 10 Axes>"
      ]
     },
     "metadata": {
      "needs_background": "light"
     },
     "output_type": "display_data"
    },
    {
     "data": {
      "image/png": "[encoded data removed]",
      "text/plain": [
       "<Figure size 720x72 with 10 Axes>"
      ]
     },
     "metadata": {
      "needs_background": "light"
     },
     "output_type": "display_data"
    }
   ],
   "source": [
    "# Generate Dictionaries\n",
    "patch_size = 12\n",
    "num_samples = 500\n",
    "num_features = 10\n",
    "k = 1000\n",
    "\n",
    "pca_features = generatePCADictionary(images, patch_size, num_samples, num_features)\n",
    "optsparse_features = generateOptSparseDictionary(images, patch_size, num_samples, num_features)\n",
    "\n",
    "plotDictionary(pca_features, \"PCA\")\n",
    "plotDictionary(optsparse_features, \"OptSparse\")"
   ]
  },
  {
   "cell_type": "code",
   "execution_count": null,
   "metadata": {},
   "outputs": [],
   "source": [
    "# Run through whole video\n",
    "S_codes_pca = videoMatchingPursuit(images, pca_features, k, orthogonalMatchingPursuit)\n",
    "S_codes_optsparse = videoMatchingPursuit(images, optsparse_features, k, orthogonalMatchingPursuit)\n",
    "\n",
    "recon_video_pca = generateReconVideo(S_codes_pca, images, pca_features)\n",
    "recon_video_optsparse = generateReconVideo(S_codes_optsparse, images, optsparse_features)\n"
   ]
  },
  {
   "cell_type": "code",
   "execution_count": null,
   "metadata": {},
   "outputs": [],
   "source": [
    "# Plot the loss as a function of time\n",
    "recon_loss_pca = videoReconstructionLoss(images, recon_video_pca)\n",
    "recon_loss_optsparse = videoReconstructionLoss(images, recon_video_optsparse)"
   ]
  },
  {
   "cell_type": "code",
   "execution_count": null,
   "metadata": {},
   "outputs": [],
   "source": [
    "plt.plot(recon_loss_pca, \"b\", label=\"PCA\")\n",
    "plt.plot(recon_loss_optsparse, \"g\", label=\"OptSparse\")\n",
    "plt.xlabel(\"Frames\")\n",
    "plt.legend()\n",
    "plt.title(\"Reconstruction Loss\")\n",
    "plt.show()"
   ]
  },
  {
   "cell_type": "code",
   "execution_count": null,
   "metadata": {},
   "outputs": [],
   "source": [
    "ani = compareVideos(images, recon_video_pca);\n",
    "HTML(ani.to_html5_video())"
   ]
  },
  {
   "cell_type": "code",
   "execution_count": null,
   "metadata": {},
   "outputs": [],
   "source": [
    "ani = compareVideos(images, recon_video_optsparse);\n",
    "HTML(ani.to_html5_video())"
   ]
  },
  {
   "cell_type": "code",
   "execution_count": null,
   "metadata": {},
   "outputs": [],
   "source": []
  }
 ],
 "metadata": {
  "kernelspec": {
   "display_name": "Python 3",
   "language": "python",
   "name": "python3"
  },
  "language_info": {
   "codemirror_mode": {
    "name": "ipython",
    "version": 3
   },
   "file_extension": ".py",
   "mimetype": "text/x-python",
   "name": "python",
   "nbconvert_exporter": "python",
   "pygments_lexer": "ipython3",
   "version": "3.7.1"
  }
 },
 "nbformat": 4,
 "nbformat_minor": 2
}
